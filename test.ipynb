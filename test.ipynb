{
 "cells": [
  {
   "cell_type": "code",
   "execution_count": null,
   "metadata": {},
   "outputs": [],
   "source": [
    "# ! pip install matplotlib"
   ]
  },
  {
   "cell_type": "code",
   "execution_count": null,
   "metadata": {},
   "outputs": [],
   "source": [
    "# import Scope"
   ]
  },
  {
   "cell_type": "code",
   "execution_count": null,
   "metadata": {},
   "outputs": [],
   "source": [
    "# Scope.stop_visualizer()"
   ]
  },
  {
   "cell_type": "code",
   "execution_count": null,
   "metadata": {},
   "outputs": [],
   "source": [
    "# Scope.launch_visualizer('vis1')"
   ]
  },
  {
   "cell_type": "code",
   "execution_count": 1,
   "metadata": {},
   "outputs": [],
   "source": [
    "import threading\n",
    "import math\n",
    "import socket\n",
    "import time\n",
    "\n",
    "UDP_IP = \"127.0.0.1\"\n",
    "UDP_PORT = 5005\n",
    "sock = socket.socket(socket.AF_INET, socket.SOCK_DGRAM)\n",
    "\n",
    "def generate_sine_wave(frequency=1, rate=10):\n",
    "    i = 0\n",
    "    while True:\n",
    "        t = i / rate\n",
    "        y = math.sin(2 * math.pi * frequency * t)\n",
    "        sock.sendto(str(y).encode(), (UDP_IP, UDP_PORT))\n",
    "        time.sleep(1 / rate)\n",
    "        i += 1\n",
    "\n",
    "# Run in a separate thread if you want to run it asynchronously\n",
    "sine_thread = threading.Thread(target=generate_sine_wave)\n",
    "sine_thread.daemon = True\n",
    "sine_thread.start()"
   ]
  },
  {
   "cell_type": "code",
   "execution_count": 1,
   "metadata": {},
   "outputs": [
    {
     "name": "stdout",
     "output_type": "stream",
     "text": [
      "\u001b[01;34m.\u001b[0m\n",
      "├── \u001b[00m.gitignore\u001b[0m\n",
      "├── \u001b[00mScope.py\u001b[0m\n",
      "├── \u001b[01;34mscope\u001b[0m\n",
      "│   ├── \u001b[00mCHANGELOG.md\u001b[0m\n",
      "│   ├── \u001b[00mREADME.md\u001b[0m\n",
      "│   ├── \u001b[00mpackage.json\u001b[0m\n",
      "│   ├── \u001b[01;34msrc\u001b[0m\n",
      "│   │   ├── \u001b[00mextension.ts\u001b[0m\n",
      "│   │   └── \u001b[01;34mtest\u001b[0m\n",
      "│   │       ├── \u001b[00mrunTest.ts\u001b[0m\n",
      "│   │       └── \u001b[01;34msuite\u001b[0m\n",
      "│   │           ├── \u001b[00mextension.test.ts\u001b[0m\n",
      "│   │           └── \u001b[00mindex.ts\u001b[0m\n",
      "│   ├── \u001b[00mtsconfig.json\u001b[0m\n",
      "│   └── \u001b[00mvsc-extension-quickstart.md\u001b[0m\n",
      "└── \u001b[00mtest.ipynb\u001b[0m\n",
      "\n",
      "5 directories, 12 files\n"
     ]
    }
   ],
   "source": [
    "! git ls-files --others --exclude-standard | tree --fromfile"
   ]
  },
  {
   "cell_type": "code",
   "execution_count": null,
   "metadata": {},
   "outputs": [],
   "source": []
  }
 ],
 "metadata": {
  "kernelspec": {
   "display_name": ".venv",
   "language": "python",
   "name": "python3"
  },
  "language_info": {
   "codemirror_mode": {
    "name": "ipython",
    "version": 3
   },
   "file_extension": ".py",
   "mimetype": "text/x-python",
   "name": "python",
   "nbconvert_exporter": "python",
   "pygments_lexer": "ipython3",
   "version": "3.11.5"
  },
  "orig_nbformat": 4
 },
 "nbformat": 4,
 "nbformat_minor": 2
}
